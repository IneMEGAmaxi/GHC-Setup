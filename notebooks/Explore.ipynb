{
 "cells": [
  {
   "cell_type": "code",
   "execution_count": 1,
   "id": "8a93c0d9",
   "metadata": {},
   "outputs": [],
   "source": [
    "%load_ext autoreload\n",
    "%autoreload 2"
   ]
  },
  {
   "cell_type": "code",
   "execution_count": 2,
   "id": "a2ab5708",
   "metadata": {},
   "outputs": [],
   "source": [
    "from pathlib import Path\n",
    "import pandas as pd\n",
    "\n",
    "from src import io"
   ]
  },
  {
   "cell_type": "code",
   "execution_count": 9,
   "id": "e7377a46",
   "metadata": {},
   "outputs": [],
   "source": [
    "DATA_PATH = Path(\"../data\")\n",
    "FILE = DATA_PATH / \"b_basic.in.txt\"\n",
    "# FILE = DATA_PATH / \"e_elaborate.in.txt\""
   ]
  },
  {
   "cell_type": "code",
   "execution_count": 12,
   "id": "fa178bc5",
   "metadata": {},
   "outputs": [
    {
     "data": {
      "text/plain": [
       "([['akuof', 'byyii'],\n",
       "  ['dlust', 'luncl'],\n",
       "  ['akuof', 'luncl'],\n",
       "  ['dlust', 'vxglq'],\n",
       "  ['dlust', 'xveqd']],\n",
       " [[], [], [], [], []])"
      ]
     },
     "execution_count": 12,
     "metadata": {},
     "output_type": "execute_result"
    }
   ],
   "source": [
    "likes, dislikes = io.parse_problem(FILE)\n",
    "likes, dislikes"
   ]
  },
  {
   "cell_type": "code",
   "execution_count": 5,
   "id": "d51b791b",
   "metadata": {},
   "outputs": [],
   "source": [
    "def unique_entries(lol):\n",
    "    uniques = set()\n",
    "    for l in lol:\n",
    "        uniques.update(l)\n",
    "    return uniques"
   ]
  },
  {
   "cell_type": "code",
   "execution_count": 6,
   "id": "5c32d133",
   "metadata": {},
   "outputs": [
    {
     "data": {
      "text/plain": [
       "6"
      ]
     },
     "execution_count": 6,
     "metadata": {},
     "output_type": "execute_result"
    }
   ],
   "source": [
    "unique_likes = unique_entries(likes)\n",
    "len(unique_likes)"
   ]
  },
  {
   "cell_type": "code",
   "execution_count": 7,
   "id": "2d830297",
   "metadata": {},
   "outputs": [
    {
     "data": {
      "text/plain": [
       "0"
      ]
     },
     "execution_count": 7,
     "metadata": {},
     "output_type": "execute_result"
    }
   ],
   "source": [
    "unique_dislikes = unique_entries(dislikes)\n",
    "len(unique_dislikes)"
   ]
  },
  {
   "cell_type": "code",
   "execution_count": 8,
   "id": "99280b95",
   "metadata": {},
   "outputs": [
    {
     "data": {
      "text/plain": [
       "6"
      ]
     },
     "execution_count": 8,
     "metadata": {},
     "output_type": "execute_result"
    }
   ],
   "source": [
    "uniques = unique_likes | unique_dislikes\n",
    "len(uniques)"
   ]
  },
  {
   "cell_type": "code",
   "execution_count": null,
   "id": "161519f0",
   "metadata": {},
   "outputs": [],
   "source": []
  },
  {
   "cell_type": "code",
   "execution_count": null,
   "id": "31e4885a",
   "metadata": {},
   "outputs": [],
   "source": []
  },
  {
   "cell_type": "code",
   "execution_count": null,
   "id": "b8fd13f0",
   "metadata": {},
   "outputs": [],
   "source": []
  },
  {
   "cell_type": "code",
   "execution_count": null,
   "id": "34dd9e9c",
   "metadata": {},
   "outputs": [],
   "source": []
  }
 ],
 "metadata": {
  "kernelspec": {
   "display_name": "Python 3",
   "language": "python",
   "name": "python3"
  },
  "language_info": {
   "codemirror_mode": {
    "name": "ipython",
    "version": 3
   },
   "file_extension": ".py",
   "mimetype": "text/x-python",
   "name": "python",
   "nbconvert_exporter": "python",
   "pygments_lexer": "ipython3",
   "version": "3.8.10"
  }
 },
 "nbformat": 4,
 "nbformat_minor": 5
}
